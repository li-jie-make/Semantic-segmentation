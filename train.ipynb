{
 "cells": [
  {
   "cell_type": "code",
   "execution_count": 1,
   "id": "64c4fc1e-dbd2-4fb7-8a73-410b8eb67994",
   "metadata": {
    "execution": {
     "iopub.execute_input": "2021-11-01T01:29:11.664901Z",
     "iopub.status.busy": "2021-11-01T01:29:11.664635Z",
     "iopub.status.idle": "2021-11-01T01:29:11.670426Z",
     "shell.execute_reply": "2021-11-01T01:29:11.669893Z",
     "shell.execute_reply.started": "2021-11-01T01:29:11.664859Z"
    }
   },
   "outputs": [
    {
     "name": "stdout",
     "output_type": "stream",
     "text": [
      "/home/aistudio/work\n"
     ]
    }
   ],
   "source": [
    "# 进入/home/aistudio/work目录\r\n",
    "%cd /home/aistudio/work"
   ]
  },
  {
   "cell_type": "code",
   "execution_count": null,
   "id": "a07e0593-50d1-445b-9405-29ad379b893f",
   "metadata": {},
   "outputs": [],
   "source": [
    "# 克隆paddleseg\n",
    "# !git clone -b v2.3.0 https://gitee.com/paddlepaddle/PaddleSeg.git\n"
   ]
  },
  {
   "cell_type": "code",
   "execution_count": null,
   "id": "63e8f9cb-7beb-4769-8560-b442ea4f21ba",
   "metadata": {},
   "outputs": [],
   "source": [
    "# 安装paddleseg\r\n",
    "!pip install paddleseg"
   ]
  },
  {
   "cell_type": "code",
   "execution_count": 3,
   "id": "6bc5e7ed-a11d-485d-8048-931774fb5de9",
   "metadata": {
    "execution": {
     "iopub.execute_input": "2021-11-01T01:29:26.217734Z",
     "iopub.status.busy": "2021-11-01T01:29:26.217327Z",
     "iopub.status.idle": "2021-11-01T01:29:26.221626Z",
     "shell.execute_reply": "2021-11-01T01:29:26.221090Z",
     "shell.execute_reply.started": "2021-11-01T01:29:26.217569Z"
    }
   },
   "outputs": [
    {
     "name": "stdout",
     "output_type": "stream",
     "text": [
      "/home/aistudio/work/PaddleSeg\n"
     ]
    }
   ],
   "source": [
    "# 进入/home/aistudio/work/PaddleSeg目录\r\n",
    "%cd PaddleSeg"
   ]
  },
  {
   "cell_type": "code",
   "execution_count": 13,
   "id": "29896c8d-a561-4004-9780-fa3627abd900",
   "metadata": {
    "execution": {
     "iopub.execute_input": "2021-10-30T12:49:25.467773Z",
     "iopub.status.busy": "2021-10-30T12:49:25.467436Z",
     "iopub.status.idle": "2021-10-30T12:49:56.016500Z",
     "shell.execute_reply": "2021-10-30T12:49:56.015699Z",
     "shell.execute_reply.started": "2021-10-30T12:49:25.467718Z"
    }
   },
   "outputs": [],
   "source": [
    "# 解压训练数据到/home/aistudio/work/data下\r\n",
    "!unzip -q /home/aistudio/data/data77571/train_and_label.zip -d data/"
   ]
  },
  {
   "cell_type": "code",
   "execution_count": 14,
   "id": "e2863626-c41a-47e1-8b4b-9f70a7febadc",
   "metadata": {
    "execution": {
     "iopub.execute_input": "2021-10-30T12:50:38.551016Z",
     "iopub.status.busy": "2021-10-30T12:50:38.550689Z",
     "iopub.status.idle": "2021-10-30T12:50:39.435783Z",
     "shell.execute_reply": "2021-10-30T12:50:39.434619Z",
     "shell.execute_reply.started": "2021-10-30T12:50:38.550976Z"
    }
   },
   "outputs": [],
   "source": [
    "# 解压测试集数据到/home/aistudio/work/data下\r\n",
    "!unzip -q /home/aistudio/data/data77571/img_test.zip -d data/"
   ]
  },
  {
   "cell_type": "code",
   "execution_count": null,
   "id": "1deb6f1e-7c44-45cf-93ca-5c044e28ebc5",
   "metadata": {},
   "outputs": [],
   "source": [
    "# 划分训练集、测试集，比例为8：2\n",
    "\n",
    "import os\n",
    "import random\n",
    "import shutil\n",
    "from tqdm import tqdm\n",
    "\n",
    "label_path = \"data/lab_train\"\n",
    "img_path = \"data/img_train\"\n",
    "save_path = \"data/dataset\"\n",
    "\n",
    "train_img_path = os.path.join(save_path, \"train\", \"images\")\n",
    "train_ann_path = os.path.join(save_path, \"train\", \"annotations\")\n",
    "\n",
    "val_img_path = os.path.join(save_path, \"val\", \"images\")\n",
    "val_ann_path = os.path.join(save_path, \"val\", \"annotations\")\n",
    "\n",
    "os.makedirs(train_img_path)\n",
    "os.makedirs(train_ann_path)\n",
    "os.makedirs(val_img_path)\n",
    "os.makedirs(val_ann_path)\n",
    "\n",
    "name_list = os.listdir(img_path)\n",
    "# print(name_list)\n",
    "random.shuffle(name_list)\n",
    "\n",
    "train_list_path = os.path.join(save_path, \"train.txt\")\n",
    "val_list_path = os.path.join(save_path, \"val.txt\")\n",
    "train_file = open(train_list_path, \"a\")\n",
    "val_file = open(val_list_path, \"a\")\n",
    "\n",
    "for name in tqdm(name_list[:int(len(name_list)*0.8)]):\n",
    "    img_old_path = os.path.join(img_path, name)\n",
    "    img_new_path = os.path.join(train_img_path, name)\n",
    "    shutil.copy(img_old_path, img_new_path)\n",
    "\n",
    "    ann_old_path = os.path.join(label_path, name.replace(\"jpg\", \"png\"))\n",
    "    ann_new_path = os.path.join(train_ann_path, name.replace(\"jpg\", \"png\"))\n",
    "    shutil.copy(ann_old_path, ann_new_path)\n",
    "    \n",
    "    train_file.write(\"train/images/{} train/annotations/{}\\n\".format(name, name.replace(\"jpg\", \"png\")))\n",
    "\n",
    "for name in tqdm(name_list[int(len(name_list)*0.8):]):\n",
    "    img_old_path = os.path.join(img_path, name)\n",
    "    img_new_path = os.path.join(val_img_path, name)\n",
    "    shutil.copy(img_old_path, img_new_path)\n",
    "\n",
    "    ann_old_path = os.path.join(label_path, name.replace(\"jpg\", \"png\"))\n",
    "    ann_new_path = os.path.join(val_ann_path, name.replace(\"jpg\", \"png\"))\n",
    "    shutil.copy(ann_old_path, ann_new_path)\n",
    "\n",
    "    val_file.write(\"val/images/{} val/annotations/{}\\n\".format(name, name.replace(\"jpg\", \"png\")))"
   ]
  },
  {
   "cell_type": "code",
   "execution_count": 16,
   "id": "51390f0e-0788-449c-8f8e-02a21f64452c",
   "metadata": {
    "execution": {
     "iopub.execute_input": "2021-10-30T12:51:08.529018Z",
     "iopub.status.busy": "2021-10-30T12:51:08.528714Z",
     "iopub.status.idle": "2021-10-30T12:51:08.929564Z",
     "shell.execute_reply": "2021-10-30T12:51:08.928419Z",
     "shell.execute_reply.started": "2021-10-30T12:51:08.528973Z"
    }
   },
   "outputs": [],
   "source": [
    "# 数据读取配置文件\r\n",
    "!cp /home/aistudio/config/custom.yml configs/_base_/custom.yml"
   ]
  },
  {
   "cell_type": "code",
   "execution_count": 17,
   "id": "d954c3c7-e529-4b5c-81fb-255d82290fb3",
   "metadata": {
    "execution": {
     "iopub.execute_input": "2021-10-30T12:51:11.667157Z",
     "iopub.status.busy": "2021-10-30T12:51:11.666831Z",
     "iopub.status.idle": "2021-10-30T12:51:12.059249Z",
     "shell.execute_reply": "2021-10-30T12:51:12.057996Z",
     "shell.execute_reply.started": "2021-10-30T12:51:11.667112Z"
    }
   },
   "outputs": [],
   "source": [
    "# ocrnet配置文件\r\n",
    "!cp /home/aistudio/config/ocrnet.yml configs/ocrnet/ocrnet.yml"
   ]
  },
  {
   "cell_type": "code",
   "execution_count": 18,
   "id": "bc814607-81be-4a3f-ba00-8797fc467b9c",
   "metadata": {
    "execution": {
     "iopub.execute_input": "2021-10-30T12:51:15.123006Z",
     "iopub.status.busy": "2021-10-30T12:51:15.122703Z",
     "iopub.status.idle": "2021-10-30T12:51:15.513983Z",
     "shell.execute_reply": "2021-10-30T12:51:15.512933Z",
     "shell.execute_reply.started": "2021-10-30T12:51:15.122961Z"
    }
   },
   "outputs": [],
   "source": [
    "# segformer_B3配置文件\r\n",
    "!cp /home/aistudio/config/segformer.yml configs/segformer/segformer.yml"
   ]
  },
  {
   "cell_type": "code",
   "execution_count": null,
   "id": "6a27d4ad-e1db-45c6-add4-23c5f98ec284",
   "metadata": {},
   "outputs": [],
   "source": [
    "# 模型训练\n",
    "\n",
    "# ocrnet\n",
    "# !python train.py --config configs/ocrnet/ocrnet.yml --do_eval --use_vdl --save_interval 500 --save_dir output\n",
    "\n",
    "# segformer\n",
    "!python train.py --config configs/segformer/segformer.yml --log_iters 2200 --use_vdl --save_interval 2200 --save_dir output\n",
    "# !python train.py --config configs/segformer/segformer.yml --log_iters 1 --use_vdl --save_interval 1 --save_dir output\n"
   ]
  },
  {
   "cell_type": "code",
   "execution_count": null,
   "id": "66fa9d04-c9d5-4b81-be59-e552f0d2df80",
   "metadata": {
    "execution": {
     "iopub.status.busy": "2021-10-30T12:45:00.612640Z",
     "iopub.status.idle": "2021-10-30T12:45:00.612917Z",
     "shell.execute_reply": "2021-10-30T12:45:00.612779Z"
    }
   },
   "outputs": [],
   "source": [
    "# !cp -r output/ /home/aistudio/output"
   ]
  },
  {
   "cell_type": "code",
   "execution_count": null,
   "id": "a343ad73-9cd2-4257-8c07-ab7ffcba20cb",
   "metadata": {},
   "outputs": [],
   "source": [
    "# 模型测试\n",
    "!python val.py --config configs/segformer/segformer.yml --model_path=output/iter_16000/model.pdparams\n"
   ]
  },
  {
   "cell_type": "code",
   "execution_count": 4,
   "id": "6bb2266a-8ae3-4667-8838-530254f34872",
   "metadata": {
    "execution": {
     "iopub.execute_input": "2021-11-01T01:30:08.888905Z",
     "iopub.status.busy": "2021-11-01T01:30:08.888646Z",
     "iopub.status.idle": "2021-11-01T01:38:30.522160Z",
     "shell.execute_reply": "2021-11-01T01:38:30.521354Z",
     "shell.execute_reply.started": "2021-11-01T01:30:08.888864Z"
    }
   },
   "outputs": [
    {
     "name": "stdout",
     "output_type": "stream",
     "text": [
      "2021-11-01 09:30:10 [INFO]\t\n",
      "---------------Config Information---------------\n",
      "batch_size: 24\n",
      "iters: 160000\n",
      "loss:\n",
      "  coef:\n",
      "  - 1\n",
      "  types:\n",
      "  - type: CrossEntropyLoss\n",
      "lr_scheduler:\n",
      "  end_lr: 0\n",
      "  learning_rate: 6.0e-05\n",
      "  power: 1\n",
      "  type: PolynomialDecay\n",
      "model:\n",
      "  num_classes: 5\n",
      "  pretrained: https://bj.bcebos.com/paddleseg/dygraph/mix_vision_transformer_b3.tar.gz\n",
      "  type: SegFormer_B3\n",
      "optimizer:\n",
      "  beta1: 0.9\n",
      "  beta2: 0.999\n",
      "  type: AdamW\n",
      "  weight_decay: 0.01\n",
      "train_dataset:\n",
      "  dataset_root: data/dataset\n",
      "  mode: train\n",
      "  num_classes: 5\n",
      "  train_path: data/dataset/train.txt\n",
      "  transforms:\n",
      "  - max_scale_factor: 2.0\n",
      "    min_scale_factor: 0.5\n",
      "    scale_step_size: 0.25\n",
      "    type: ResizeStepScaling\n",
      "  - crop_size:\n",
      "    - 256\n",
      "    - 256\n",
      "    type: RandomPaddingCrop\n",
      "  - type: RandomHorizontalFlip\n",
      "  - brightness_range: 0.4\n",
      "    contrast_range: 0.4\n",
      "    saturation_range: 0.4\n",
      "    type: RandomDistort\n",
      "  - type: Normalize\n",
      "  type: Dataset\n",
      "val_dataset:\n",
      "  dataset_root: data/dataset\n",
      "  mode: val\n",
      "  num_classes: 5\n",
      "  transforms:\n",
      "  - type: Normalize\n",
      "  type: Dataset\n",
      "  val_path: data/dataset/val.txt\n",
      "------------------------------------------------\n",
      "W1101 09:30:10.415937  1950 device_context.cc:404] Please NOTE: device: 0, GPU Compute Capability: 7.0, Driver API Version: 10.1, Runtime API Version: 10.1\n",
      "W1101 09:30:10.415972  1950 device_context.cc:422] device: 0, cuDNN Version: 7.6.\n",
      "2021-11-01 09:30:32 [INFO]\tLoading pretrained model from https://bj.bcebos.com/paddleseg/dygraph/mix_vision_transformer_b3.tar.gz\n",
      "Connecting to https://bj.bcebos.com/paddleseg/dygraph/mix_vision_transformer_b3.tar.gz\n",
      "Downloading mix_vision_transformer_b3.tar.gz\n",
      "[==================================================] 100.00%\n",
      "Uncompress mix_vision_transformer_b3.tar.gz\n",
      "[==================================================] 100.00%\n",
      "2021-11-01 09:30:41 [WARNING]\tlinear_c4.proj.weight is not in pretrained model\n",
      "2021-11-01 09:30:41 [WARNING]\tlinear_c4.proj.bias is not in pretrained model\n",
      "2021-11-01 09:30:41 [WARNING]\tlinear_c3.proj.weight is not in pretrained model\n",
      "2021-11-01 09:30:41 [WARNING]\tlinear_c3.proj.bias is not in pretrained model\n",
      "2021-11-01 09:30:41 [WARNING]\tlinear_c2.proj.weight is not in pretrained model\n",
      "2021-11-01 09:30:41 [WARNING]\tlinear_c2.proj.bias is not in pretrained model\n",
      "2021-11-01 09:30:41 [WARNING]\tlinear_c1.proj.weight is not in pretrained model\n",
      "2021-11-01 09:30:41 [WARNING]\tlinear_c1.proj.bias is not in pretrained model\n",
      "2021-11-01 09:30:41 [WARNING]\tlinear_fuse._conv.weight is not in pretrained model\n",
      "2021-11-01 09:30:41 [WARNING]\tlinear_fuse._batch_norm.weight is not in pretrained model\n",
      "2021-11-01 09:30:41 [WARNING]\tlinear_fuse._batch_norm.bias is not in pretrained model\n",
      "2021-11-01 09:30:41 [WARNING]\tlinear_fuse._batch_norm._mean is not in pretrained model\n",
      "2021-11-01 09:30:41 [WARNING]\tlinear_fuse._batch_norm._variance is not in pretrained model\n",
      "2021-11-01 09:30:41 [WARNING]\tlinear_pred.weight is not in pretrained model\n",
      "2021-11-01 09:30:41 [WARNING]\tlinear_pred.bias is not in pretrained model\n",
      "2021-11-01 09:30:44 [INFO]\tThere are 572/587 variables loaded into SegFormer.\n",
      "2021-11-01 09:30:44 [INFO]\tNumber of predict images = 4608\n",
      "2021-11-01 09:30:44 [INFO]\tLoading pretrained model from output/iter_94600/model.pdparams\n",
      "2021-11-01 09:30:50 [INFO]\tThere are 587/587 variables loaded into SegFormer.\n",
      "2021-11-01 09:30:50 [INFO]\tStart to predict...\n",
      "4608/4608 [==============================] - 459s 100ms/step\n"
     ]
    }
   ],
   "source": [
    "# 推理预测\r\n",
    "!python predict.py --config configs/segformer/segformer.yml --model_path output/iter_94600/model.pdparams --image_path data/img_testA --save_dir output/result"
   ]
  },
  {
   "cell_type": "code",
   "execution_count": 5,
   "id": "58a46ee8-271c-4298-adb0-3620b91366a1",
   "metadata": {
    "execution": {
     "iopub.execute_input": "2021-11-01T01:40:06.807226Z",
     "iopub.status.busy": "2021-11-01T01:40:06.806964Z",
     "iopub.status.idle": "2021-11-01T01:40:06.811284Z",
     "shell.execute_reply": "2021-11-01T01:40:06.810714Z",
     "shell.execute_reply.started": "2021-11-01T01:40:06.807187Z"
    }
   },
   "outputs": [
    {
     "name": "stdout",
     "output_type": "stream",
     "text": [
      "/home/aistudio/work/PaddleSeg/output/result\n"
     ]
    }
   ],
   "source": [
    "%cd output/result"
   ]
  },
  {
   "cell_type": "code",
   "execution_count": 6,
   "id": "5d6b3556-6fc5-4fdf-b3bb-a161f27c6747",
   "metadata": {
    "execution": {
     "iopub.execute_input": "2021-11-01T01:40:26.906435Z",
     "iopub.status.busy": "2021-11-01T01:40:26.906170Z",
     "iopub.status.idle": "2021-11-01T01:40:27.638861Z",
     "shell.execute_reply": "2021-11-01T01:40:27.638100Z",
     "shell.execute_reply.started": "2021-11-01T01:40:26.906395Z"
    }
   },
   "outputs": [],
   "source": [
    "!zip -q -r result.zip pseudo_color_prediction"
   ]
  },
  {
   "cell_type": "code",
   "execution_count": null,
   "id": "df880939-c900-4569-abf6-3233eeaa88f2",
   "metadata": {},
   "outputs": [],
   "source": [
    "%cd .."
   ]
  }
 ],
 "metadata": {
  "kernelspec": {
   "display_name": "Python 3",
   "language": "python",
   "name": "py35-paddle1.2.0"
  },
  "language_info": {
   "codemirror_mode": {
    "name": "ipython",
    "version": 3
   },
   "file_extension": ".py",
   "mimetype": "text/x-python",
   "name": "python",
   "nbconvert_exporter": "python",
   "pygments_lexer": "ipython3",
   "version": "3.7.4"
  }
 },
 "nbformat": 4,
 "nbformat_minor": 5
}
